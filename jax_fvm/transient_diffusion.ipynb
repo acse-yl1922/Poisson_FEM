{
 "cells": [
  {
   "cell_type": "code",
   "execution_count": 1,
   "metadata": {},
   "outputs": [],
   "source": [
    "import os\n",
    "import timeit\n",
    "import numpy as np\n",
    "import jax.numpy as jnp\n",
    "from jax import jit, lax\n",
    "import matplotlib.pyplot as plt\n",
    "\n",
    "from scipy.interpolate import griddata\n",
    "from mpl_toolkits.axes_grid1 import make_axes_locatable\n",
    "import matplotlib.animation as animation\n",
    "\n",
    "os.environ[\"CUDA_DEVICE_ORDER\"] = (\n",
    "    \"PCI_BUS_ID\"  # see issue #152 # comment this out for mac cpu\n",
    ")\n",
    "os.environ[\"CUDA_VISIBLE_DEVICES\"] = \"0\""
   ]
  },
  {
   "cell_type": "markdown",
   "metadata": {},
   "source": [
    "### Solve a transient diffusion equation"
   ]
  },
  {
   "cell_type": "markdown",
   "metadata": {},
   "source": [
    "The transient diffusion equation reads\n",
    "\n",
    "$$\\frac{\\partial \\rho \\phi}{\\partial t}+\\nabla \\cdot \\left(-\\Gamma\\nabla \\phi\\right)=S_Q,$$\n",
    "\n",
    "For simplicity we let $S_Q = 0$ "
   ]
  },
  {
   "cell_type": "code",
   "execution_count": 2,
   "metadata": {},
   "outputs": [],
   "source": [
    "# Read in grid\n",
    "from grids import Grid,BoundaryConditions\n",
    "\n",
    "grid = Grid(\n",
    "    np.load(\"/home/yongqi/JAX-IGA/jax_torch_fvm/raw_data/mesh/mesh_basic_np.npz\")\n",
    ")"
   ]
  },
  {
   "cell_type": "markdown",
   "metadata": {},
   "source": [
    "Now let us set up ground truth and physical quantities $\\rho = 1$ and $\\gamma = 1$\n",
    "\n",
    "First let us validate that in our case $$\\frac{\\partial  \\phi}{\\partial t} == \\nabla \\cdot \\left(\\nabla \\phi\\right)$$"
   ]
  },
  {
   "cell_type": "code",
   "execution_count": 3,
   "metadata": {},
   "outputs": [
    {
     "data": {
      "text/latex": [
       "$\\displaystyle - 300000.0 \\pi^{2} e^{- 3 \\pi t} \\sin{\\left(\\pi x \\right)} \\sin{\\left(\\pi y \\right)} \\sin{\\left(\\pi z \\right)}$"
      ],
      "text/plain": [
       "-300000.0*pi**2*exp(-3*pi*t)*sin(pi*x)*sin(pi*y)*sin(pi*z)"
      ]
     },
     "execution_count": 3,
     "metadata": {},
     "output_type": "execute_result"
    }
   ],
   "source": [
    "import sympy as sp\n",
    "\n",
    "# Define the symbolic variables\n",
    "x, y, z, t = sp.symbols('x y z t')\n",
    "\n",
    "# Step 3: Define the scalar field (e.g., phi)\n",
    "phi = 10e4*sp.sin(sp.pi * x) * sp.sin(sp.pi * y) * sp.sin(sp.pi * z) *sp.exp(-sp.pi*3*t)\n",
    "\n",
    "# Step 4: Compute the Laplacian\n",
    "laplacian_phi = sp.diff(phi, x, x) + sp.diff(phi, y, y) + sp.diff(phi, z, z)\n",
    "\n",
    "# Simplify the result\n",
    "laplacian_phi = sp.simplify(laplacian_phi)\n",
    "\n",
    "# Display the Laplacian\n",
    "laplacian_phi\n",
    "\n"
   ]
  },
  {
   "cell_type": "code",
   "execution_count": 4,
   "metadata": {},
   "outputs": [
    {
     "data": {
      "text/latex": [
       "$\\displaystyle - 300000.0 \\pi e^{- 3 \\pi t} \\sin{\\left(\\pi x \\right)} \\sin{\\left(\\pi y \\right)} \\sin{\\left(\\pi z \\right)}$"
      ],
      "text/plain": [
       "-300000.0*pi*exp(-3*pi*t)*sin(pi*x)*sin(pi*y)*sin(pi*z)"
      ]
     },
     "execution_count": 4,
     "metadata": {},
     "output_type": "execute_result"
    }
   ],
   "source": [
    "grad_phi = sp.diff(phi,t)\n",
    "grad_phi = sp.simplify(grad_phi)\n",
    "grad_phi"
   ]
  },
  {
   "cell_type": "code",
   "execution_count": 5,
   "metadata": {},
   "outputs": [
    {
     "data": {
      "text/latex": [
       "$\\displaystyle 1.45441920393019$"
      ],
      "text/plain": [
       "1.45441920393019"
      ]
     },
     "execution_count": 5,
     "metadata": {},
     "output_type": "execute_result"
    }
   ],
   "source": [
    "# Substitute the specific values into the solution\n",
    "phi_value = phi.subs({x: 0.51682734, y: 0.9421734, z: 0.5146519, t: 1.0})\n",
    "\n",
    "# Evaluate the expression numerically\n",
    "phi_value_numeric = phi_value.evalf()\n",
    "\n",
    "phi_value_numeric"
   ]
  },
  {
   "cell_type": "code",
   "execution_count": 6,
   "metadata": {},
   "outputs": [],
   "source": [
    "# diffusion coefficient field\n",
    "Gamma = 1.0\n",
    "\n",
    "def fx(x):\n",
    "    return jnp.sin(jnp.pi * x)\n",
    "\n",
    "def fy(x):\n",
    "    return jnp.sin(jnp.pi * x)\n",
    "\n",
    "def fz(x):\n",
    "    return jnp.sin(jnp.pi * x)\n",
    "\n",
    "def ft(x):\n",
    "    return jnp.exp(-jnp.pi*3*x)\n",
    "\n",
    "def get_gt_foi(X):\n",
    "    x,y,z,t = X[:,0], X[:,1], X[:,2], X[:,3]\n",
    "    return 10e4*fx(x)*fy(y)*fz(z)*ft(t)\n",
    "    \n",
    "def get_source(X):\n",
    "    return jnp.sum(0.0 * X, axis=1)\n",
    "    \n",
    "def get_gamma(X):\n",
    "    return Gamma + jnp.sum(0.0 * X, axis=1)\n",
    "    # return 1.004+ jnp.sum(0.*x, axis = 1)\n",
    "\n",
    "\n",
    "def get_initial_guess(X):\n",
    "    x,y,z,t = X[:,0], X[:,1], X[:,2], X[:,3]\n",
    "    return 10e4*fx(x)*fy(y)*fz(z)*ft(1)\n",
    "\n",
    "\n",
    "\n",
    "fvSchemes = {\n",
    "    \"ddtSchemes\": \"steadyState\",\n",
    "    \"gradSchemes\": \"Gauss linear\",\n",
    "    #  'gradSchemes': 'Gauss linear corrected',\n",
    "    \"divSchemes\": \"none\",\n",
    "    \"laplacianSchemes\": \"Gauss linear corrected\",\n",
    "    \"interpolateionSchemes\": \"linear\",\n",
    "    \"snGradSchemes\": \"corrected\",\n",
    "}\n",
    "\n",
    "bd_infos = {\n",
    "    \"T\": (\n",
    "        (\"top\", 0, \"Uniform\", 0.0),\n",
    "        (\"bottom\", 0, \"Uniform\", 0.0),\n",
    "        (\"back\", 0, \"Uniform\", 0.0),\n",
    "        (\"right\", 0, \"Uniform\", 0.0),\n",
    "        (\"front\", 0, \"Uniform\", 0.0),\n",
    "        (\"left\", 0, \"Uniform\", 0.0),\n",
    "    )\n",
    "}\n",
    "\n",
    "controlDict = {\n",
    "    \"startTime\": 1.0,\n",
    "    \"endTime\": 1.1,\n",
    "    \"deltaT\": 0.01,\n",
    "}\n",
    "\n",
    "Simulation_input = {\n",
    "    \"controlDict\": controlDict,\n",
    "    \"source\": get_source,\n",
    "    \"gamma\": Gamma,\n",
    "    \"rho\": 1.0,\n",
    "    \"gt\": get_gt_foi,\n",
    "    \"fvSchemes\": fvSchemes,\n",
    "    \n",
    "}\n"
   ]
  },
  {
   "cell_type": "code",
   "execution_count": 7,
   "metadata": {},
   "outputs": [
    {
     "name": "stdout",
     "output_type": "stream",
     "text": [
      "Gamma: [1. 1. 1. ... 1. 1. 1.]\n",
      "Shape of gamma array == Num of faces: True \n",
      "\n",
      "Source Term: [0. 0. 0. ... 0. 0. 0.]\n",
      "Shape of source array == Num of cell center nodes: True \n",
      "\n",
      "rho: [1. 1. 1. ... 1. 1. 1.]\n",
      "Shape of rho array == Num of cell center nodes: True \n",
      "\n"
     ]
    }
   ],
   "source": [
    "# Set up simulation\n",
    "grid.SetUpSimulation(\"transient Diffusion\", **Simulation_input)\n",
    "\n",
    "print(\"Gamma:\",grid.gamma)\n",
    "print(\"Shape of gamma array == Num of faces:\", grid.gamma.shape[0] == grid.N_f,\"\\n\")\n",
    "print(\"Source Term:\", grid.source)\n",
    "print(\"Shape of source array == Num of cell center nodes:\", grid.source.shape[0] == grid.N_c,\"\\n\")\n",
    "print(\"rho:\", grid.rho)\n",
    "print(\"Shape of rho array == Num of cell center nodes:\", grid.rho.shape[0] == grid.N_c,\"\\n\")\n",
    "\n",
    "# Creat initial field object with B.C.\n",
    "from initial_condition import InitialScalarField\n",
    "\n",
    "# We apply Dirichlet boundary conditions on all boundaries of the domain:\n",
    "mybc = BoundaryConditions(bd_infos[\"T\"], grid)\n",
    "v0 = InitialScalarField(get_initial_guess, grid, mybc, name=\"T\").UpdateBoundaryPhi(grid)\n",
    "# v0 = grid.gt[0]"
   ]
  },
  {
   "cell_type": "code",
   "execution_count": 8,
   "metadata": {},
   "outputs": [
    {
     "data": {
      "text/plain": [
       "GridVariable(cell_phi=Array([1.454418  , 0.9884212 , 1.7486279 , ..., 0.91478175, 0.3516839 ,\n",
       "       0.6350101 ], dtype=float32), bd_phi=Array([0., 0., 0., ..., 0., 0., 0.], dtype=float32), bc=BoundaryConditions(bd_names=('bottom', 'top', 'left', 'right', 'front', 'back'), bd_types=('Dirichlet', 'Dirichlet', 'Dirichlet', 'Dirichlet', 'Dirichlet', 'Dirichlet'), bd_infos=(('bottom', 0, 'Uniform', 0.0, 17895, 18301), ('top', 0, 'Uniform', 0.0, 18301, 18707), ('left', 0, 'Uniform', 0.0, 18707, 19111), ('right', 0, 'Uniform', 0.0, 19111, 19517), ('front', 0, 'Uniform', 0.0, 19517, 19921), ('back', 0, 'Uniform', 0.0, 19921, 20325))), name='T')"
      ]
     },
     "execution_count": 8,
     "metadata": {},
     "output_type": "execute_result"
    }
   ],
   "source": [
    "v0"
   ]
  },
  {
   "cell_type": "markdown",
   "metadata": {},
   "source": [
    "Now let us generate the animation of gt first"
   ]
  },
  {
   "cell_type": "code",
   "execution_count": 9,
   "metadata": {},
   "outputs": [],
   "source": [
    "# # regular points:\n",
    "# mx, my, mz = jnp.meshgrid(\n",
    "#     jnp.linspace(0, 1, 50), jnp.linspace(0, 1, 50), jnp.linspace(0, 1, 50)\n",
    "# )\n",
    "# mxyz = jnp.concatenate((mx[..., None], my[..., None], mz[..., None]), axis=-1)\n",
    "\n",
    "# cx = 10\n",
    "# cy = 20\n",
    "# cz = 30\n",
    "\n",
    "# # Prepare the figure and axes\n",
    "# fig, ax = plt.subplots(1, 3, figsize=(30, 24))\n",
    "\n",
    "# # Set up the plot with initial data\n",
    "# gt_field = grid.gt[0]\n",
    "# gt_inter_foi_yz = griddata(grid.c_pos, gt_field, mxyz[cx, :, :], method=\"linear\")\n",
    "# gt_inter_foi_xz = griddata(grid.c_pos, gt_field, mxyz[:, cy, :], method=\"linear\")\n",
    "# gt_inter_foi_xy = griddata(grid.c_pos, gt_field, mxyz[:, :, cz], method=\"linear\")\n",
    "\n",
    "# # Initial data for images\n",
    "# im_yz = ax[0].imshow(gt_inter_foi_yz, extent=(0, 1, 0, 1), cmap='coolwarm')\n",
    "# im_xz = ax[1].imshow(gt_inter_foi_xz, extent=(0, 1, 0, 1), cmap='coolwarm')\n",
    "# im_xy = ax[2].imshow(gt_inter_foi_xy, extent=(0, 1, 0, 1), cmap='coolwarm')\n",
    "\n",
    "# # Create colorbars with fixed limits\n",
    "# divider_yz = make_axes_locatable(ax[0])\n",
    "# divider_xz = make_axes_locatable(ax[1])\n",
    "# divider_xy = make_axes_locatable(ax[2])\n",
    "\n",
    "# cax_yz = divider_yz.append_axes(\"right\", size=\"5%\", pad=0.05)\n",
    "# cax_xz = divider_xz.append_axes(\"right\", size=\"5%\", pad=0.05)\n",
    "# cax_xy = divider_xy.append_axes(\"right\", size=\"5%\", pad=0.05)\n",
    "\n",
    "# cbar_yz = fig.colorbar(im_yz, cax=cax_yz)\n",
    "# cbar_xz = fig.colorbar(im_xz, cax=cax_xz)\n",
    "# cbar_xy = fig.colorbar(im_xy, cax=cax_xy)\n",
    "\n",
    "# # Label axes\n",
    "# ax[0].set_xlabel(\"z\")\n",
    "# ax[0].set_ylabel(\"y\")\n",
    "# ax[1].set_xlabel(\"z\")\n",
    "# ax[1].set_ylabel(\"x\")\n",
    "# ax[2].set_xlabel(\"y\")\n",
    "# ax[2].set_ylabel(\"x\")\n",
    "\n",
    "# # Function to update each frame of the animation\n",
    "# def update(frame_idx):\n",
    "#     gt_field = grid.gt[frame_idx]\n",
    "#     gt_inter_foi_yz = griddata(grid.c_pos, gt_field, mxyz[cx, :, :], method=\"linear\")\n",
    "#     gt_inter_foi_xz = griddata(grid.c_pos, gt_field, mxyz[:, cy, :], method=\"linear\")\n",
    "#     gt_inter_foi_xy = griddata(grid.c_pos, gt_field, mxyz[:, :, cz], method=\"linear\")\n",
    "\n",
    "#     # Update image data\n",
    "#     im_yz.set_data(gt_inter_foi_yz)\n",
    "#     im_xz.set_data(gt_inter_foi_xz)\n",
    "#     im_xy.set_data(gt_inter_foi_xy)\n",
    "\n",
    "#     return im_yz, im_xz, im_xy\n",
    "\n",
    "# # Create the animation\n",
    "# ani = animation.FuncAnimation(fig, update, frames=len(grid.gt), blit=True)\n",
    "\n",
    "# # Save the animation as a GIF\n",
    "# ani.save('grid_animation.gif', writer='imagemagick', fps=2)\n",
    "\n",
    "# plt.show()\n"
   ]
  },
  {
   "cell_type": "code",
   "execution_count": 10,
   "metadata": {},
   "outputs": [],
   "source": [
    "# # Solve the problem in 3D\n",
    "from assemble import *\n",
    "from advection_diffusion import *\n",
    "from pdeSolver import *\n",
    "\n",
    "step_fn = partial(Transient_Downwind_jit, grid=grid)\n",
    "def solvePDE_explicit_jit(f: Callable, ) -> Callable:\n",
    "    \"\"\"Returns a repeatedly applied version of f().\"\"\"\n",
    "    steps = len(jnp.arange(grid.startTime, grid.endTime, grid.deltaT))\n",
    "    \n",
    "    def f_repeated(x_initial):\n",
    "        g = lambda x, _: f(x)\n",
    "        x_final, residual = lax.scan(g, x_initial, xs=None, length=steps)\n",
    "        return x_final,residual\n",
    "    return f_repeated\n",
    "\n",
    "repeated_fn = jit(solvePDE_explicit_jit(step_fn))\n",
    "\n",
    "def solvePDE_explicit(v0, grid):\n",
    "    analysis = []\n",
    "    steps = len(jnp.arange(grid.startTime, grid.endTime, grid.deltaT))\n",
    "    for _ in range (steps):\n",
    "        v0, axillary = Transient_Downwind(v0, grid)\n",
    "        analysis.append((v0,axillary))\n",
    "    return analysis\n",
    "\n",
    "\n",
    "# def wrapper1():\n",
    "#     return solvePDE_explicit(v0, grid)  # .block_until_ready() \n",
    "\n",
    "\n",
    "# def wrapper2():\n",
    "#     return repeated_fn(v0)  # .block_until_ready()\n",
    "\n",
    "\n",
    "# print(\"Before:\", timeit.timeit(wrapper1, number=7))\n",
    "# print(\"After:\", timeit.timeit(wrapper2, number=7))\n",
    "\n",
    "result = solvePDE_explicit(v0,grid)"
   ]
  },
  {
   "cell_type": "code",
   "execution_count": 11,
   "metadata": {},
   "outputs": [],
   "source": [
    "# from scipy.interpolate import griddata\n",
    "\n",
    "# # regular points:\n",
    "# mx, my, mz = jnp.meshgrid(\n",
    "#     jnp.linspace(0, 1, 50), jnp.linspace(0, 1, 50), jnp.linspace(0, 1, 50)\n",
    "# )\n",
    "# mxyz = jnp.concatenate((mx[..., None], my[..., None], mz[..., None]), axis=-1)\n",
    "\n",
    "# solution = result[-1][0].cell_phi\n",
    "# gt_field = grid.gt[-1]\n",
    "\n",
    "# fig, ax = plt.subplots(3, 3, figsize=(30, 24))\n",
    "# # lw=1\n",
    "# cx = 10\n",
    "# cy = 20\n",
    "# cz = 30\n",
    "\n",
    "# solution_inter_foi_yz = griddata(grid.c_pos, solution, mxyz[cx, :, :], method=\"linear\")\n",
    "# solution_inter_foi_xz = griddata(grid.c_pos, solution, mxyz[:, cy, :], method=\"linear\")\n",
    "# solution_inter_foi_xy = griddata(grid.c_pos, solution, mxyz[:, :, cz], method=\"linear\")\n",
    "\n",
    "\n",
    "# gt_inter_foi_yz = griddata(grid.c_pos, gt_field, mxyz[cx, :, :], method=\"linear\")\n",
    "# gt_inter_foi_xz = griddata(grid.c_pos, gt_field, mxyz[:, cy, :], method=\"linear\")\n",
    "# gt_inter_foi_xy = griddata(grid.c_pos, gt_field, mxyz[:, :, cz], method=\"linear\")\n",
    "\n",
    "# diff_inter_foi_yz = griddata(\n",
    "#     grid.c_pos, solution - gt_field, mxyz[cx, :, :], method=\"linear\"\n",
    "# )\n",
    "# diff_inter_foi_xz = griddata(\n",
    "#     grid.c_pos, solution - gt_field, mxyz[:, cy, :], method=\"linear\"\n",
    "# )\n",
    "# diff_inter_foi_xy = griddata(\n",
    "#     grid.c_pos, solution - gt_field, mxyz[:, :, cz], method=\"linear\"\n",
    "# )\n",
    "\n",
    "\n",
    "# data = [\n",
    "#     [solution_inter_foi_yz, solution_inter_foi_xz, solution_inter_foi_xy],\n",
    "#     [gt_inter_foi_yz, gt_inter_foi_xz, gt_inter_foi_xy],\n",
    "#     [diff_inter_foi_yz, diff_inter_foi_xz, diff_inter_foi_xy],\n",
    "# ]\n",
    "# data_labels = [\"solution\", \"gt\", \"difference\"]\n",
    "# for i in range(len(data)):\n",
    "#     imx = ax[i, 0].imshow(data[i][0], label=\"yz\", extent=(0, 1, 0, 1), cmap='coolwarm',vmin=0,vmax=4)\n",
    "#     imy = ax[i, 1].imshow(data[i][1], label=\"xz\", extent=(0, 1, 0, 1),  cmap='coolwarm',vmin=0,vmax=7)\n",
    "#     imz = ax[i, 2].imshow(data[i][2], label=\"xy\", extent=(0, 1, 0, 1),  cmap='coolwarm',vmin=0,vmax=7)\n",
    "#     cbarx = fig.colorbar(imx)\n",
    "#     cbary = fig.colorbar(imy)\n",
    "#     cbarz = fig.colorbar(imz)\n",
    "#     ax[i, 0].set_xlabel(\"z\")\n",
    "#     ax[i, 0].set_ylabel(\"y\")\n",
    "#     ax[i, 0].set_title(data_labels[i] + \"@ x = \" + str(cx / 50))\n",
    "#     ax[i, 1].set_xlabel(\"z\")\n",
    "#     ax[i, 1].set_ylabel(\"x\")\n",
    "#     ax[i, 1].set_title(data_labels[i] + \"@ y = \" + str(cy / 50))\n",
    "#     ax[i, 2].set_xlabel(\"y\")\n",
    "#     ax[i, 2].set_ylabel(\"x\")\n",
    "#     ax[i, 2].set_title(data_labels[i] + \"@ z = \" + str(cz / 50))"
   ]
  },
  {
   "cell_type": "code",
   "execution_count": 12,
   "metadata": {},
   "outputs": [],
   "source": [
    "# residuals = result[1]\n",
    "# errors_dict = {\"residual\": np.array(jnp.mean(abs(residuals), axis=1))}\n",
    "# fig, ax = plt.subplots(figsize=(12, 8))\n",
    "# # lw=1\n",
    "# for key, value in errors_dict.items():\n",
    "#     ax.plot(value, label=key, linewidth=3)\n",
    "# ax.set_yscale(\"log\")\n",
    "# ax.set_xlabel(\"iteration\")\n",
    "# ax.set_ylabel(\"Residual\")\n",
    "# leg = ax.legend(loc=\"upper right\", frameon=True)\n",
    "# leg.get_frame().set_edgecolor(\"black\")"
   ]
  },
  {
   "cell_type": "code",
   "execution_count": 13,
   "metadata": {},
   "outputs": [],
   "source": [
    "# # # Solve the problem in 3D\n",
    "# from assemble import *\n",
    "# from advection_diffusion import *\n",
    "# from pdeSolver import *\n",
    "\n",
    "# step_fn = partial(Transient_upwind_jit, grid=grid)\n",
    "# def solvePDE_implicit_jit(f: Callable, ) -> Callable:\n",
    "#     \"\"\"Returns a repeatedly applied version of f().\"\"\"\n",
    "#     steps = len(jnp.arange(grid.startTime, grid.endTime, grid.deltaT))\n",
    "    \n",
    "#     def f_repeated(x_initial):\n",
    "#         g = lambda x, _: f(x)\n",
    "#         x_final, residual = lax.scan(g, x_initial, xs=None, length=steps)\n",
    "#         return x_final,residual\n",
    "#     return f_repeated\n",
    "\n",
    "# repeated_fn_implicit = jit(solvePDE_implicit_jit(step_fn))\n",
    "\n",
    "# def solvePDE_implicit(v0, grid):\n",
    "#     analysis = []\n",
    "#     steps = len(jnp.arange(grid.startTime, grid.endTime, grid.deltaT))\n",
    "#     for _ in range (steps):\n",
    "#         v0, axillary = Transient_upwind(v0, grid)\n",
    "#         analysis.append(axillary)\n",
    "#     return v0, analysis\n",
    "\n",
    "# def wrapper3():\n",
    "#     return solvePDE_implicit(v0, grid)  # .block_until_ready() \n",
    "\n",
    "# def wrapper4():\n",
    "#     return repeated_fn_implicit(v0)  # .block_until_ready()\n",
    "\n",
    "\n",
    "# print(\"Before:\", timeit.timeit(wrapper3, number=7))\n",
    "# print(\"After:\", timeit.timeit(wrapper4, number=7))\n",
    "# # result_implicit = solvePDE_implicit(v0,grid)\n",
    "# result_implicit = wrapper4()"
   ]
  },
  {
   "cell_type": "code",
   "execution_count": 14,
   "metadata": {},
   "outputs": [],
   "source": [
    "# result_implicit"
   ]
  },
  {
   "cell_type": "code",
   "execution_count": 15,
   "metadata": {},
   "outputs": [],
   "source": [
    "# from scipy.interpolate import griddata\n",
    "\n",
    "# # regular points:\n",
    "# mx, my, mz = jnp.meshgrid(\n",
    "#     jnp.linspace(0, 1, 50), jnp.linspace(0, 1, 50), jnp.linspace(0, 1, 50)\n",
    "# )\n",
    "# mxyz = jnp.concatenate((mx[..., None], my[..., None], mz[..., None]), axis=-1)\n",
    "\n",
    "# solution = result_implicit[0].cell_phi\n",
    "# gt_field = grid.gt\n",
    "\n",
    "# fig, ax = plt.subplots(3, 3, figsize=(30, 24))\n",
    "# # lw=1\n",
    "# cx = 10\n",
    "# cy = 20\n",
    "# cz = 30\n",
    "\n",
    "# solution_inter_foi_yz = griddata(grid.c_pos, solution, mxyz[cx, :, :], method=\"linear\")\n",
    "# solution_inter_foi_xz = griddata(grid.c_pos, solution, mxyz[:, cy, :], method=\"linear\")\n",
    "# solution_inter_foi_xy = griddata(grid.c_pos, solution, mxyz[:, :, cz], method=\"linear\")\n",
    "\n",
    "\n",
    "# gt_inter_foi_yz = griddata(grid.c_pos, gt_field, mxyz[cx, :, :], method=\"linear\")\n",
    "# gt_inter_foi_xz = griddata(grid.c_pos, gt_field, mxyz[:, cy, :], method=\"linear\")\n",
    "# gt_inter_foi_xy = griddata(grid.c_pos, gt_field, mxyz[:, :, cz], method=\"linear\")\n",
    "\n",
    "# diff_inter_foi_yz = griddata(\n",
    "#     grid.c_pos, solution - gt_field, mxyz[cx, :, :], method=\"linear\"\n",
    "# )\n",
    "# diff_inter_foi_xz = griddata(\n",
    "#     grid.c_pos, solution - gt_field, mxyz[:, cy, :], method=\"linear\"\n",
    "# )\n",
    "# diff_inter_foi_xy = griddata(\n",
    "#     grid.c_pos, solution - gt_field, mxyz[:, :, cz], method=\"linear\"\n",
    "# )\n",
    "\n",
    "\n",
    "# data = [\n",
    "#     [solution_inter_foi_yz, solution_inter_foi_xz, solution_inter_foi_xy],\n",
    "#     [gt_inter_foi_yz, gt_inter_foi_xz, gt_inter_foi_xy],\n",
    "#     [diff_inter_foi_yz, diff_inter_foi_xz, diff_inter_foi_xy],\n",
    "# ]\n",
    "# data_labels = [\"solution\", \"gt\", \"difference\"]\n",
    "# for i in range(len(data)):\n",
    "#     imx = ax[i, 0].imshow(data[i][0], label=\"yz\", extent=(0, 1, 0, 1), cmap='coolwarm')\n",
    "#     imy = ax[i, 1].imshow(data[i][1], label=\"xz\", extent=(0, 1, 0, 1),  cmap='coolwarm')\n",
    "#     imz = ax[i, 2].imshow(data[i][2], label=\"xy\", extent=(0, 1, 0, 1),  cmap='coolwarm')\n",
    "#     cbarx = fig.colorbar(imx)\n",
    "#     cbary = fig.colorbar(imy)\n",
    "#     cbarz = fig.colorbar(imz)\n",
    "#     ax[i, 0].set_xlabel(\"z\")\n",
    "#     ax[i, 0].set_ylabel(\"y\")\n",
    "#     ax[i, 0].set_title(data_labels[i] + \"@ x = \" + str(cx / 50))\n",
    "#     ax[i, 1].set_xlabel(\"z\")\n",
    "#     ax[i, 1].set_ylabel(\"x\")\n",
    "#     ax[i, 1].set_title(data_labels[i] + \"@ y = \" + str(cy / 50))\n",
    "#     ax[i, 2].set_xlabel(\"y\")\n",
    "#     ax[i, 2].set_ylabel(\"x\")\n",
    "#     ax[i, 2].set_title(data_labels[i] + \"@ z = \" + str(cz / 50))"
   ]
  },
  {
   "cell_type": "code",
   "execution_count": 16,
   "metadata": {},
   "outputs": [],
   "source": [
    "# residuals = np.array(result_implicit[1])\n",
    "# errors_dict = {\"residual\": np.array(jnp.mean(abs(residuals), axis=1))}\n",
    "# fig, ax = plt.subplots(figsize=(12, 8))\n",
    "# # lw=1\n",
    "# for key, value in errors_dict.items():\n",
    "#     ax.plot(value, label=key, linewidth=3)\n",
    "# ax.set_yscale(\"log\")\n",
    "# ax.set_xlabel(\"iteration\")\n",
    "# ax.set_ylabel(\"Residual\")\n",
    "# leg = ax.legend(loc=\"upper right\", frameon=True)\n",
    "# leg.get_frame().set_edgecolor(\"black\")"
   ]
  }
 ],
 "metadata": {
  "kernelspec": {
   "display_name": "jax4",
   "language": "python",
   "name": "python3"
  },
  "language_info": {
   "codemirror_mode": {
    "name": "ipython",
    "version": 3
   },
   "file_extension": ".py",
   "mimetype": "text/x-python",
   "name": "python",
   "nbconvert_exporter": "python",
   "pygments_lexer": "ipython3",
   "version": "3.10.13"
  },
  "orig_nbformat": 4
 },
 "nbformat": 4,
 "nbformat_minor": 2
}
